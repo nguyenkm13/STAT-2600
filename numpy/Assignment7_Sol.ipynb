{
 "cells": [
  {
   "cell_type": "markdown",
   "metadata": {},
   "source": [
    "Kevin Nguyen"
   ]
  },
  {
   "cell_type": "markdown",
   "metadata": {},
   "source": [
    "STAT 2600"
   ]
  },
  {
   "cell_type": "markdown",
   "metadata": {},
   "source": [
    "# Assignment 7 (10 Points): Numpy"
   ]
  },
  {
   "cell_type": "code",
   "execution_count": 3,
   "metadata": {},
   "outputs": [],
   "source": [
    "import numpy as np\n",
    "import pandas as pd\n",
    "\n",
    "%matplotlib inline\n",
    "import matplotlib.pyplot as plt\n",
    "import seaborn; seaborn.set()  # set plot style"
   ]
  },
  {
   "cell_type": "code",
   "execution_count": 4,
   "metadata": {},
   "outputs": [
    {
     "name": "stdout",
     "output_type": "stream",
     "text": [
      "carat,cut,color,clarity,depth,table,price,x,y,z\r\n",
      "0.23,Ideal,E,SI2,61.5,55,326,3.95,3.98,2.43\r\n",
      "0.21,Premium,E,SI1,59.8,61,326,3.89,3.84,2.31\r\n",
      "0.23,Good,E,VS1,56.9,65,327,4.05,4.07,2.31\r\n"
     ]
    }
   ],
   "source": [
    "!head -4 data/diamonds.csv"
   ]
  },
  {
   "cell_type": "code",
   "execution_count": 5,
   "metadata": {},
   "outputs": [],
   "source": [
    "diamonds = pd.read_csv('data/diamonds.csv')\n",
    "prices = np.array(diamonds['price'])\n",
    "carats = np.array(diamonds['carat'])"
   ]
  },
  {
   "cell_type": "markdown",
   "metadata": {},
   "source": [
    "### Q1 (2 points): Print the mean, standard deviation, minimum, maximum, 25th percentile, median, and 75th percentile of the prices array."
   ]
  },
  {
   "cell_type": "code",
   "execution_count": 31,
   "metadata": {
    "scrolled": true
   },
   "outputs": [
    {
     "name": "stdout",
     "output_type": "stream",
     "text": [
      "======================================== \n",
      "Mean price:         3932.799721913237 \n",
      "Standard deviation: 3989.4027576288736 \n",
      "Minimum price:      326 \n",
      "Maximum price:      18823 \n",
      "======================================== \n",
      "25th percentile:    950.0 \n",
      "Median:             2401.0 \n",
      "75th percentile:    5324.25 \n",
      "========================================\n"
     ]
    }
   ],
   "source": [
    "mean = prices.mean()\n",
    "stdev = prices.std()\n",
    "minPrice = prices.min()\n",
    "maxPrice = prices.max()\n",
    "percentiles = [25, 50, 75]\n",
    "quantile = np.percentile(prices, percentiles)\n",
    "\n",
    "\n",
    "print(\"========================================\",\n",
    "      \"\\nMean price:        \", mean,\n",
    "      \"\\nStandard deviation:\", stdev,\n",
    "      \"\\nMinimum price:     \", minPrice,\n",
    "      \"\\nMaximum price:     \", maxPrice,\n",
    "      \"\\n========================================\",\n",
    "      \"\\n25th percentile:   \", quantile[0],\n",
    "      \"\\nMedian:            \", quantile[1],\n",
    "      \"\\n75th percentile:   \", quantile[2],\n",
    "      \"\\n========================================\",\n",
    "     )"
   ]
  },
  {
   "cell_type": "markdown",
   "metadata": {},
   "source": [
    "### Q2 (2 points): Plot the histogram of the prices array."
   ]
  },
  {
   "cell_type": "code",
   "execution_count": 44,
   "metadata": {
    "scrolled": true
   },
   "outputs": [
    {
     "data": {
      "image/png": "[encoded data removed]",
      "text/plain": [
       "<Figure size 432x288 with 1 Axes>"
      ]
     },
     "metadata": {},
     "output_type": "display_data"
    }
   ],
   "source": [
    "x = plt.hist(prices)\n",
    "x = plt.xlabel(\"prices\")\n",
    "x = plt.ylabel(\"number\")\n",
    "x = plt.title(\"Price Distribution\")"
   ]
  },
  {
   "cell_type": "markdown",
   "metadata": {},
   "source": [
    "### Q3 (2 points): Reproduce the following output."
   ]
  },
  {
   "cell_type": "code",
   "execution_count": 61,
   "metadata": {},
   "outputs": [
    {
     "name": "stdout",
     "output_type": "stream",
     "text": [
      "Number of diamonds with price bigger than 1800:    31421 \n",
      "Average carat for diamonds with price bigger than 1800: 1.0920012093822602\n"
     ]
    }
   ],
   "source": [
    "temp = diamonds.loc[diamonds['price'] > 1800]\n",
    "tempSize = len(temp['price'])\n",
    "meanCarat = temp['carat'].mean()\n",
    "\n",
    "print(\"Number of diamonds with price bigger than 1800:   \", tempSize,\n",
    "      \"\\nAverage carat for diamonds with price bigger than 1800:\", meanCarat\n",
    "     )\n"
   ]
  },
  {
   "cell_type": "markdown",
   "metadata": {},
   "source": [
    "### Q4 (4 points): Reproduce the following scatter plot. The red circles represent a random subsample of the data."
   ]
  },
  {
   "cell_type": "code",
   "execution_count": 99,
   "metadata": {},
   "outputs": [
    {
     "ename": "IndexError",
     "evalue": "index 198940 is out of bounds for axis 0 with size 53940",
     "output_type": "error",
     "traceback": [
      "\u001b[0;31m---------------------------------------------------------------------------\u001b[0m",
      "\u001b[0;31mIndexError\u001b[0m                                Traceback (most recent call last)",
      "\u001b[0;32m<ipython-input-99-a6100c1e4153>\u001b[0m in \u001b[0;36m<module>\u001b[0;34m\u001b[0m\n\u001b[1;32m      3\u001b[0m \u001b[0;34m\u001b[0m\u001b[0m\n\u001b[1;32m      4\u001b[0m \u001b[0mindices\u001b[0m \u001b[0;34m=\u001b[0m \u001b[0mnp\u001b[0m\u001b[0;34m.\u001b[0m\u001b[0mrandom\u001b[0m\u001b[0;34m.\u001b[0m\u001b[0mchoice\u001b[0m\u001b[0;34m(\u001b[0m\u001b[0mdiamonds\u001b[0m\u001b[0;34m.\u001b[0m\u001b[0msize\u001b[0m\u001b[0;34m,\u001b[0m \u001b[0;36m20\u001b[0m\u001b[0;34m,\u001b[0m \u001b[0mreplace\u001b[0m\u001b[0;34m=\u001b[0m\u001b[0;32mFalse\u001b[0m\u001b[0;34m)\u001b[0m\u001b[0;34m\u001b[0m\u001b[0;34m\u001b[0m\u001b[0m\n\u001b[0;32m----> 5\u001b[0;31m \u001b[0mselectionX\u001b[0m \u001b[0;34m=\u001b[0m \u001b[0mlogPrices\u001b[0m\u001b[0;34m[\u001b[0m\u001b[0mindices\u001b[0m\u001b[0;34m]\u001b[0m\u001b[0;34m\u001b[0m\u001b[0;34m\u001b[0m\u001b[0m\n\u001b[0m\u001b[1;32m      6\u001b[0m \u001b[0mselectionY\u001b[0m \u001b[0;34m=\u001b[0m \u001b[0mlogCarat\u001b[0m\u001b[0;34m[\u001b[0m\u001b[0mindices\u001b[0m\u001b[0;34m]\u001b[0m\u001b[0;34m\u001b[0m\u001b[0;34m\u001b[0m\u001b[0m\n\u001b[1;32m      7\u001b[0m \u001b[0;34m\u001b[0m\u001b[0m\n",
      "\u001b[0;31mIndexError\u001b[0m: index 198940 is out of bounds for axis 0 with size 53940"
     ]
    }
   ],
   "source": [
    "logCarat = np.log2(carats)\n",
    "logPrices = np.log2(prices)\n",
    "\n",
    "indices = np.random.choice(diamonds.size, 20, replace=False)\n",
    "selectionX = logPrices[indices]\n",
    "selectionY = logCarat[indices]\n",
    "\n",
    "plot = plt.scatter(logPrices, logCarat, alpha = 1/4)\n",
    "plot = plt.xlabel(\"log2(prices)\")\n",
    "plot = plt.ylabel(\"log2(carats)\")\n",
    "\n",
    "plt.scatter(selectionX, selectionY,\n",
    "            facecolor='none', s=200, edgecolors='r');"
   ]
  },
  {
   "cell_type": "code",
   "execution_count": null,
   "metadata": {},
   "outputs": [],
   "source": []
  }
 ],
 "metadata": {
  "kernelspec": {
   "display_name": "Python 3",
   "language": "python",
   "name": "python3"
  },
  "language_info": {
   "codemirror_mode": {
    "name": "ipython",
    "version": 3
   },
   "file_extension": ".py",
   "mimetype": "text/x-python",
   "name": "python",
   "nbconvert_exporter": "python",
   "pygments_lexer": "ipython3",
   "version": "3.7.6"
  }
 },
 "nbformat": 4,
 "nbformat_minor": 2
}
