{
 "cells": [
  {
   "cell_type": "markdown",
   "metadata": {},
   "source": [
    "Kevin Nguyen"
   ]
  },
  {
   "cell_type": "markdown",
   "metadata": {},
   "source": [
    "STAT2600"
   ]
  },
  {
   "cell_type": "markdown",
   "metadata": {},
   "source": [
    "27 Feburary 2020"
   ]
  },
  {
   "cell_type": "markdown",
   "metadata": {},
   "source": [
    "Assignment 3"
   ]
  },
  {
   "cell_type": "code",
   "execution_count": 1,
   "metadata": {},
   "outputs": [
    {
     "name": "stderr",
     "output_type": "stream",
     "text": [
      "── Attaching packages ─────────────────────────────────────── tidyverse 1.3.0 ──\n",
      "✔ ggplot2 3.2.1     ✔ purrr   0.3.3\n",
      "✔ tibble  2.1.3     ✔ dplyr   0.8.3\n",
      "✔ tidyr   1.0.0     ✔ stringr 1.4.0\n",
      "✔ readr   1.3.1     ✔ forcats 0.4.0\n",
      "── Conflicts ────────────────────────────────────────── tidyverse_conflicts() ──\n",
      "✖ dplyr::filter() masks stats::filter()\n",
      "✖ dplyr::lag()    masks stats::lag()\n"
     ]
    }
   ],
   "source": [
    "library(tidyverse)\n",
    "library(nycflights13)"
   ]
  },
  {
   "cell_type": "code",
   "execution_count": 2,
   "metadata": {
    "scrolled": true
   },
   "outputs": [
    {
     "name": "stdout",
     "output_type": "stream",
     "text": [
      "# A tibble: 336,776 x 19\n",
      "    year month   day dep_time sched_dep_time dep_delay arr_time sched_arr_time\n",
      "   <int> <int> <int>    <int>          <int>     <dbl>    <int>          <int>\n",
      " 1  2013     1     1      517            515         2      830            819\n",
      " 2  2013     1     1      533            529         4      850            830\n",
      " 3  2013     1     1      542            540         2      923            850\n",
      " 4  2013     1     1      544            545        -1     1004           1022\n",
      " 5  2013     1     1      554            600        -6      812            837\n",
      " 6  2013     1     1      554            558        -4      740            728\n",
      " 7  2013     1     1      555            600        -5      913            854\n",
      " 8  2013     1     1      557            600        -3      709            723\n",
      " 9  2013     1     1      557            600        -3      838            846\n",
      "10  2013     1     1      558            600        -2      753            745\n",
      "# … with 336,766 more rows, and 11 more variables: arr_delay <dbl>,\n",
      "#   carrier <chr>, flight <int>, tailnum <chr>, origin <chr>, dest <chr>,\n",
      "#   air_time <dbl>, distance <dbl>, hour <dbl>, minute <dbl>, time_hour <dttm>\n"
     ]
    },
    {
     "data": {
      "text/html": [
       "<table>\n",
       "<thead><tr><th scope=col>year</th><th scope=col>month</th><th scope=col>day</th><th scope=col>dep_time</th><th scope=col>sched_dep_time</th><th scope=col>dep_delay</th><th scope=col>arr_time</th><th scope=col>sched_arr_time</th><th scope=col>arr_delay</th><th scope=col>carrier</th><th scope=col>flight</th><th scope=col>tailnum</th><th scope=col>origin</th><th scope=col>dest</th><th scope=col>air_time</th><th scope=col>distance</th><th scope=col>hour</th><th scope=col>minute</th><th scope=col>time_hour</th></tr></thead>\n",
       "<tbody>\n",
       "\t<tr><td>2013               </td><td>1                  </td><td>1                  </td><td>517                </td><td>515                </td><td> 2                 </td><td> 830               </td><td> 819               </td><td> 11                </td><td>UA                 </td><td>1545               </td><td>N14228             </td><td>EWR                </td><td>IAH                </td><td>227                </td><td>1400               </td><td>5                  </td><td>15                 </td><td>2013-01-01 05:00:00</td></tr>\n",
       "\t<tr><td>2013               </td><td>1                  </td><td>1                  </td><td>533                </td><td>529                </td><td> 4                 </td><td> 850               </td><td> 830               </td><td> 20                </td><td>UA                 </td><td>1714               </td><td>N24211             </td><td>LGA                </td><td>IAH                </td><td>227                </td><td>1416               </td><td>5                  </td><td>29                 </td><td>2013-01-01 05:00:00</td></tr>\n",
       "\t<tr><td>2013               </td><td>1                  </td><td>1                  </td><td>542                </td><td>540                </td><td> 2                 </td><td> 923               </td><td> 850               </td><td> 33                </td><td>AA                 </td><td>1141               </td><td>N619AA             </td><td>JFK                </td><td>MIA                </td><td>160                </td><td>1089               </td><td>5                  </td><td>40                 </td><td>2013-01-01 05:00:00</td></tr>\n",
       "\t<tr><td>2013               </td><td>1                  </td><td>1                  </td><td>544                </td><td>545                </td><td>-1                 </td><td>1004               </td><td>1022               </td><td>-18                </td><td>B6                 </td><td> 725               </td><td>N804JB             </td><td>JFK                </td><td>BQN                </td><td>183                </td><td>1576               </td><td>5                  </td><td>45                 </td><td>2013-01-01 05:00:00</td></tr>\n",
       "\t<tr><td>2013               </td><td>1                  </td><td>1                  </td><td>554                </td><td>600                </td><td>-6                 </td><td> 812               </td><td> 837               </td><td>-25                </td><td>DL                 </td><td> 461               </td><td>N668DN             </td><td>LGA                </td><td>ATL                </td><td>116                </td><td> 762               </td><td>6                  </td><td> 0                 </td><td>2013-01-01 06:00:00</td></tr>\n",
       "</tbody>\n",
       "</table>\n"
      ],
      "text/latex": [
       "\\begin{tabular}{r|lllllllllllllllllll}\n",
       " year & month & day & dep\\_time & sched\\_dep\\_time & dep\\_delay & arr\\_time & sched\\_arr\\_time & arr\\_delay & carrier & flight & tailnum & origin & dest & air\\_time & distance & hour & minute & time\\_hour\\\\\n",
       "\\hline\n",
       "\t 2013                & 1                   & 1                   & 517                 & 515                 &  2                  &  830                &  819                &  11                 & UA                  & 1545                & N14228              & EWR                 & IAH                 & 227                 & 1400                & 5                   & 15                  & 2013-01-01 05:00:00\\\\\n",
       "\t 2013                & 1                   & 1                   & 533                 & 529                 &  4                  &  850                &  830                &  20                 & UA                  & 1714                & N24211              & LGA                 & IAH                 & 227                 & 1416                & 5                   & 29                  & 2013-01-01 05:00:00\\\\\n",
       "\t 2013                & 1                   & 1                   & 542                 & 540                 &  2                  &  923                &  850                &  33                 & AA                  & 1141                & N619AA              & JFK                 & MIA                 & 160                 & 1089                & 5                   & 40                  & 2013-01-01 05:00:00\\\\\n",
       "\t 2013                & 1                   & 1                   & 544                 & 545                 & -1                  & 1004                & 1022                & -18                 & B6                  &  725                & N804JB              & JFK                 & BQN                 & 183                 & 1576                & 5                   & 45                  & 2013-01-01 05:00:00\\\\\n",
       "\t 2013                & 1                   & 1                   & 554                 & 600                 & -6                  &  812                &  837                & -25                 & DL                  &  461                & N668DN              & LGA                 & ATL                 & 116                 &  762                & 6                   &  0                  & 2013-01-01 06:00:00\\\\\n",
       "\\end{tabular}\n"
      ],
      "text/markdown": [
       "\n",
       "| year | month | day | dep_time | sched_dep_time | dep_delay | arr_time | sched_arr_time | arr_delay | carrier | flight | tailnum | origin | dest | air_time | distance | hour | minute | time_hour |\n",
       "|---|---|---|---|---|---|---|---|---|---|---|---|---|---|---|---|---|---|---|\n",
       "| 2013                | 1                   | 1                   | 517                 | 515                 |  2                  |  830                |  819                |  11                 | UA                  | 1545                | N14228              | EWR                 | IAH                 | 227                 | 1400                | 5                   | 15                  | 2013-01-01 05:00:00 |\n",
       "| 2013                | 1                   | 1                   | 533                 | 529                 |  4                  |  850                |  830                |  20                 | UA                  | 1714                | N24211              | LGA                 | IAH                 | 227                 | 1416                | 5                   | 29                  | 2013-01-01 05:00:00 |\n",
       "| 2013                | 1                   | 1                   | 542                 | 540                 |  2                  |  923                |  850                |  33                 | AA                  | 1141                | N619AA              | JFK                 | MIA                 | 160                 | 1089                | 5                   | 40                  | 2013-01-01 05:00:00 |\n",
       "| 2013                | 1                   | 1                   | 544                 | 545                 | -1                  | 1004                | 1022                | -18                 | B6                  |  725                | N804JB              | JFK                 | BQN                 | 183                 | 1576                | 5                   | 45                  | 2013-01-01 05:00:00 |\n",
       "| 2013                | 1                   | 1                   | 554                 | 600                 | -6                  |  812                |  837                | -25                 | DL                  |  461                | N668DN              | LGA                 | ATL                 | 116                 |  762                | 6                   |  0                  | 2013-01-01 06:00:00 |\n",
       "\n"
      ],
      "text/plain": [
       "  year month day dep_time sched_dep_time dep_delay arr_time sched_arr_time\n",
       "1 2013 1     1   517      515             2         830      819          \n",
       "2 2013 1     1   533      529             4         850      830          \n",
       "3 2013 1     1   542      540             2         923      850          \n",
       "4 2013 1     1   544      545            -1        1004     1022          \n",
       "5 2013 1     1   554      600            -6         812      837          \n",
       "  arr_delay carrier flight tailnum origin dest air_time distance hour minute\n",
       "1  11       UA      1545   N14228  EWR    IAH  227      1400     5    15    \n",
       "2  20       UA      1714   N24211  LGA    IAH  227      1416     5    29    \n",
       "3  33       AA      1141   N619AA  JFK    MIA  160      1089     5    40    \n",
       "4 -18       B6       725   N804JB  JFK    BQN  183      1576     5    45    \n",
       "5 -25       DL       461   N668DN  LGA    ATL  116       762     6     0    \n",
       "  time_hour          \n",
       "1 2013-01-01 05:00:00\n",
       "2 2013-01-01 05:00:00\n",
       "3 2013-01-01 05:00:00\n",
       "4 2013-01-01 05:00:00\n",
       "5 2013-01-01 06:00:00"
      ]
     },
     "metadata": {},
     "output_type": "display_data"
    },
    {
     "data": {
      "text/html": [
       "<table>\n",
       "<thead><tr><th scope=col>year</th><th scope=col>month</th><th scope=col>day</th><th scope=col>dep_time</th><th scope=col>sched_dep_time</th><th scope=col>dep_delay</th><th scope=col>arr_time</th><th scope=col>sched_arr_time</th><th scope=col>arr_delay</th><th scope=col>carrier</th><th scope=col>flight</th><th scope=col>tailnum</th><th scope=col>origin</th><th scope=col>dest</th><th scope=col>air_time</th><th scope=col>distance</th><th scope=col>hour</th><th scope=col>minute</th><th scope=col>time_hour</th></tr></thead>\n",
       "<tbody>\n",
       "\t<tr><td>2013               </td><td>9                  </td><td>30                 </td><td>NA                 </td><td>1455               </td><td>NA                 </td><td>NA                 </td><td>1634               </td><td>NA                 </td><td>9E                 </td><td>3393               </td><td>NA                 </td><td>JFK                </td><td>DCA                </td><td>NA                 </td><td>213                </td><td>14                 </td><td>55                 </td><td>2013-09-30 14:00:00</td></tr>\n",
       "\t<tr><td>2013               </td><td>9                  </td><td>30                 </td><td>NA                 </td><td>2200               </td><td>NA                 </td><td>NA                 </td><td>2312               </td><td>NA                 </td><td>9E                 </td><td>3525               </td><td>NA                 </td><td>LGA                </td><td>SYR                </td><td>NA                 </td><td>198                </td><td>22                 </td><td> 0                 </td><td>2013-09-30 22:00:00</td></tr>\n",
       "\t<tr><td>2013               </td><td>9                  </td><td>30                 </td><td>NA                 </td><td>1210               </td><td>NA                 </td><td>NA                 </td><td>1330               </td><td>NA                 </td><td>MQ                 </td><td>3461               </td><td>N535MQ             </td><td>LGA                </td><td>BNA                </td><td>NA                 </td><td>764                </td><td>12                 </td><td>10                 </td><td>2013-09-30 12:00:00</td></tr>\n",
       "\t<tr><td>2013               </td><td>9                  </td><td>30                 </td><td>NA                 </td><td>1159               </td><td>NA                 </td><td>NA                 </td><td>1344               </td><td>NA                 </td><td>MQ                 </td><td>3572               </td><td>N511MQ             </td><td>LGA                </td><td>CLE                </td><td>NA                 </td><td>419                </td><td>11                 </td><td>59                 </td><td>2013-09-30 11:00:00</td></tr>\n",
       "\t<tr><td>2013               </td><td>9                  </td><td>30                 </td><td>NA                 </td><td> 840               </td><td>NA                 </td><td>NA                 </td><td>1020               </td><td>NA                 </td><td>MQ                 </td><td>3531               </td><td>N839MQ             </td><td>LGA                </td><td>RDU                </td><td>NA                 </td><td>431                </td><td> 8                 </td><td>40                 </td><td>2013-09-30 08:00:00</td></tr>\n",
       "</tbody>\n",
       "</table>\n"
      ],
      "text/latex": [
       "\\begin{tabular}{r|lllllllllllllllllll}\n",
       " year & month & day & dep\\_time & sched\\_dep\\_time & dep\\_delay & arr\\_time & sched\\_arr\\_time & arr\\_delay & carrier & flight & tailnum & origin & dest & air\\_time & distance & hour & minute & time\\_hour\\\\\n",
       "\\hline\n",
       "\t 2013                & 9                   & 30                  & NA                  & 1455                & NA                  & NA                  & 1634                & NA                  & 9E                  & 3393                & NA                  & JFK                 & DCA                 & NA                  & 213                 & 14                  & 55                  & 2013-09-30 14:00:00\\\\\n",
       "\t 2013                & 9                   & 30                  & NA                  & 2200                & NA                  & NA                  & 2312                & NA                  & 9E                  & 3525                & NA                  & LGA                 & SYR                 & NA                  & 198                 & 22                  &  0                  & 2013-09-30 22:00:00\\\\\n",
       "\t 2013                & 9                   & 30                  & NA                  & 1210                & NA                  & NA                  & 1330                & NA                  & MQ                  & 3461                & N535MQ              & LGA                 & BNA                 & NA                  & 764                 & 12                  & 10                  & 2013-09-30 12:00:00\\\\\n",
       "\t 2013                & 9                   & 30                  & NA                  & 1159                & NA                  & NA                  & 1344                & NA                  & MQ                  & 3572                & N511MQ              & LGA                 & CLE                 & NA                  & 419                 & 11                  & 59                  & 2013-09-30 11:00:00\\\\\n",
       "\t 2013                & 9                   & 30                  & NA                  &  840                & NA                  & NA                  & 1020                & NA                  & MQ                  & 3531                & N839MQ              & LGA                 & RDU                 & NA                  & 431                 &  8                  & 40                  & 2013-09-30 08:00:00\\\\\n",
       "\\end{tabular}\n"
      ],
      "text/markdown": [
       "\n",
       "| year | month | day | dep_time | sched_dep_time | dep_delay | arr_time | sched_arr_time | arr_delay | carrier | flight | tailnum | origin | dest | air_time | distance | hour | minute | time_hour |\n",
       "|---|---|---|---|---|---|---|---|---|---|---|---|---|---|---|---|---|---|---|\n",
       "| 2013                | 9                   | 30                  | NA                  | 1455                | NA                  | NA                  | 1634                | NA                  | 9E                  | 3393                | NA                  | JFK                 | DCA                 | NA                  | 213                 | 14                  | 55                  | 2013-09-30 14:00:00 |\n",
       "| 2013                | 9                   | 30                  | NA                  | 2200                | NA                  | NA                  | 2312                | NA                  | 9E                  | 3525                | NA                  | LGA                 | SYR                 | NA                  | 198                 | 22                  |  0                  | 2013-09-30 22:00:00 |\n",
       "| 2013                | 9                   | 30                  | NA                  | 1210                | NA                  | NA                  | 1330                | NA                  | MQ                  | 3461                | N535MQ              | LGA                 | BNA                 | NA                  | 764                 | 12                  | 10                  | 2013-09-30 12:00:00 |\n",
       "| 2013                | 9                   | 30                  | NA                  | 1159                | NA                  | NA                  | 1344                | NA                  | MQ                  | 3572                | N511MQ              | LGA                 | CLE                 | NA                  | 419                 | 11                  | 59                  | 2013-09-30 11:00:00 |\n",
       "| 2013                | 9                   | 30                  | NA                  |  840                | NA                  | NA                  | 1020                | NA                  | MQ                  | 3531                | N839MQ              | LGA                 | RDU                 | NA                  | 431                 |  8                  | 40                  | 2013-09-30 08:00:00 |\n",
       "\n"
      ],
      "text/plain": [
       "  year month day dep_time sched_dep_time dep_delay arr_time sched_arr_time\n",
       "1 2013 9     30  NA       1455           NA        NA       1634          \n",
       "2 2013 9     30  NA       2200           NA        NA       2312          \n",
       "3 2013 9     30  NA       1210           NA        NA       1330          \n",
       "4 2013 9     30  NA       1159           NA        NA       1344          \n",
       "5 2013 9     30  NA        840           NA        NA       1020          \n",
       "  arr_delay carrier flight tailnum origin dest air_time distance hour minute\n",
       "1 NA        9E      3393   NA      JFK    DCA  NA       213      14   55    \n",
       "2 NA        9E      3525   NA      LGA    SYR  NA       198      22    0    \n",
       "3 NA        MQ      3461   N535MQ  LGA    BNA  NA       764      12   10    \n",
       "4 NA        MQ      3572   N511MQ  LGA    CLE  NA       419      11   59    \n",
       "5 NA        MQ      3531   N839MQ  LGA    RDU  NA       431       8   40    \n",
       "  time_hour          \n",
       "1 2013-09-30 14:00:00\n",
       "2 2013-09-30 22:00:00\n",
       "3 2013-09-30 12:00:00\n",
       "4 2013-09-30 11:00:00\n",
       "5 2013-09-30 08:00:00"
      ]
     },
     "metadata": {},
     "output_type": "display_data"
    },
    {
     "data": {
      "text/html": [
       "<table>\n",
       "<thead><tr><th scope=col>year</th><th scope=col>month</th><th scope=col>day</th><th scope=col>dep_time</th><th scope=col>sched_dep_time</th><th scope=col>dep_delay</th><th scope=col>arr_time</th><th scope=col>sched_arr_time</th><th scope=col>arr_delay</th><th scope=col>carrier</th><th scope=col>flight</th><th scope=col>tailnum</th><th scope=col>origin</th><th scope=col>dest</th><th scope=col>air_time</th><th scope=col>distance</th><th scope=col>hour</th><th scope=col>minute</th><th scope=col>time_hour</th></tr></thead>\n",
       "<tbody>\n",
       "\t<tr><td>2013               </td><td> 1                 </td><td>10                 </td><td>1854               </td><td>1859               </td><td>-5                 </td><td>2201               </td><td>2225               </td><td>-24                </td><td>B6                 </td><td> 171               </td><td>N648JB             </td><td>JFK                </td><td>SMF                </td><td>341                </td><td>2521               </td><td>18                 </td><td>59                 </td><td>2013-01-10 18:00:00</td></tr>\n",
       "\t<tr><td>2013               </td><td> 3                 </td><td> 7                 </td><td> 605               </td><td> 610               </td><td>-5                 </td><td> 906               </td><td> 925               </td><td>-19                </td><td>UA                 </td><td> 797               </td><td>N510UA             </td><td>JFK                </td><td>LAX                </td><td>336                </td><td>2475               </td><td> 6                 </td><td>10                 </td><td>2013-03-07 06:00:00</td></tr>\n",
       "\t<tr><td>2013               </td><td>11                 </td><td> 1                 </td><td> 655               </td><td> 655               </td><td> 0                 </td><td>1036               </td><td>1101               </td><td>-25                </td><td>DL                 </td><td> 315               </td><td>N6708D             </td><td>JFK                </td><td>SJU                </td><td>192                </td><td>1598               </td><td> 6                 </td><td>55                 </td><td>2013-11-01 06:00:00</td></tr>\n",
       "\t<tr><td>2013               </td><td>11                 </td><td>15                 </td><td>1838               </td><td>1840               </td><td>-2                 </td><td>2200               </td><td>2156               </td><td>  4                </td><td>DL                 </td><td>2139               </td><td>N369NB             </td><td>LGA                </td><td>MIA                </td><td>168                </td><td>1096               </td><td>18                 </td><td>40                 </td><td>2013-11-15 18:00:00</td></tr>\n",
       "\t<tr><td>2013               </td><td> 7                 </td><td>11                 </td><td> 821               </td><td> 825               </td><td>-4                 </td><td>1055               </td><td>1111               </td><td>-16                </td><td>DL                 </td><td>1959               </td><td>N727TW             </td><td>JFK                </td><td>MCO                </td><td>122                </td><td> 944               </td><td> 8                 </td><td>25                 </td><td>2013-07-11 08:00:00</td></tr>\n",
       "</tbody>\n",
       "</table>\n"
      ],
      "text/latex": [
       "\\begin{tabular}{r|lllllllllllllllllll}\n",
       " year & month & day & dep\\_time & sched\\_dep\\_time & dep\\_delay & arr\\_time & sched\\_arr\\_time & arr\\_delay & carrier & flight & tailnum & origin & dest & air\\_time & distance & hour & minute & time\\_hour\\\\\n",
       "\\hline\n",
       "\t 2013                &  1                  & 10                  & 1854                & 1859                & -5                  & 2201                & 2225                & -24                 & B6                  &  171                & N648JB              & JFK                 & SMF                 & 341                 & 2521                & 18                  & 59                  & 2013-01-10 18:00:00\\\\\n",
       "\t 2013                &  3                  &  7                  &  605                &  610                & -5                  &  906                &  925                & -19                 & UA                  &  797                & N510UA              & JFK                 & LAX                 & 336                 & 2475                &  6                  & 10                  & 2013-03-07 06:00:00\\\\\n",
       "\t 2013                & 11                  &  1                  &  655                &  655                &  0                  & 1036                & 1101                & -25                 & DL                  &  315                & N6708D              & JFK                 & SJU                 & 192                 & 1598                &  6                  & 55                  & 2013-11-01 06:00:00\\\\\n",
       "\t 2013                & 11                  & 15                  & 1838                & 1840                & -2                  & 2200                & 2156                &   4                 & DL                  & 2139                & N369NB              & LGA                 & MIA                 & 168                 & 1096                & 18                  & 40                  & 2013-11-15 18:00:00\\\\\n",
       "\t 2013                &  7                  & 11                  &  821                &  825                & -4                  & 1055                & 1111                & -16                 & DL                  & 1959                & N727TW              & JFK                 & MCO                 & 122                 &  944                &  8                  & 25                  & 2013-07-11 08:00:00\\\\\n",
       "\\end{tabular}\n"
      ],
      "text/markdown": [
       "\n",
       "| year | month | day | dep_time | sched_dep_time | dep_delay | arr_time | sched_arr_time | arr_delay | carrier | flight | tailnum | origin | dest | air_time | distance | hour | minute | time_hour |\n",
       "|---|---|---|---|---|---|---|---|---|---|---|---|---|---|---|---|---|---|---|\n",
       "| 2013                |  1                  | 10                  | 1854                | 1859                | -5                  | 2201                | 2225                | -24                 | B6                  |  171                | N648JB              | JFK                 | SMF                 | 341                 | 2521                | 18                  | 59                  | 2013-01-10 18:00:00 |\n",
       "| 2013                |  3                  |  7                  |  605                |  610                | -5                  |  906                |  925                | -19                 | UA                  |  797                | N510UA              | JFK                 | LAX                 | 336                 | 2475                |  6                  | 10                  | 2013-03-07 06:00:00 |\n",
       "| 2013                | 11                  |  1                  |  655                |  655                |  0                  | 1036                | 1101                | -25                 | DL                  |  315                | N6708D              | JFK                 | SJU                 | 192                 | 1598                |  6                  | 55                  | 2013-11-01 06:00:00 |\n",
       "| 2013                | 11                  | 15                  | 1838                | 1840                | -2                  | 2200                | 2156                |   4                 | DL                  | 2139                | N369NB              | LGA                 | MIA                 | 168                 | 1096                | 18                  | 40                  | 2013-11-15 18:00:00 |\n",
       "| 2013                |  7                  | 11                  |  821                |  825                | -4                  | 1055                | 1111                | -16                 | DL                  | 1959                | N727TW              | JFK                 | MCO                 | 122                 |  944                |  8                  | 25                  | 2013-07-11 08:00:00 |\n",
       "\n"
      ],
      "text/plain": [
       "  year month day dep_time sched_dep_time dep_delay arr_time sched_arr_time\n",
       "1 2013  1    10  1854     1859           -5        2201     2225          \n",
       "2 2013  3     7   605      610           -5         906      925          \n",
       "3 2013 11     1   655      655            0        1036     1101          \n",
       "4 2013 11    15  1838     1840           -2        2200     2156          \n",
       "5 2013  7    11   821      825           -4        1055     1111          \n",
       "  arr_delay carrier flight tailnum origin dest air_time distance hour minute\n",
       "1 -24       B6       171   N648JB  JFK    SMF  341      2521     18   59    \n",
       "2 -19       UA       797   N510UA  JFK    LAX  336      2475      6   10    \n",
       "3 -25       DL       315   N6708D  JFK    SJU  192      1598      6   55    \n",
       "4   4       DL      2139   N369NB  LGA    MIA  168      1096     18   40    \n",
       "5 -16       DL      1959   N727TW  JFK    MCO  122       944      8   25    \n",
       "  time_hour          \n",
       "1 2013-01-10 18:00:00\n",
       "2 2013-03-07 06:00:00\n",
       "3 2013-11-01 06:00:00\n",
       "4 2013-11-15 18:00:00\n",
       "5 2013-07-11 08:00:00"
      ]
     },
     "metadata": {},
     "output_type": "display_data"
    }
   ],
   "source": [
    "print(flights)\n",
    "head(flights, 5)\n",
    "tail(flights, 5)\n",
    "sample_n(flights, 5)"
   ]
  },
  {
   "cell_type": "markdown",
   "metadata": {},
   "source": [
    "# Q1"
   ]
  },
  {
   "cell_type": "code",
   "execution_count": 3,
   "metadata": {},
   "outputs": [],
   "source": [
    "flights_messy <- flights %>% \n",
    "  unite(date, year, month, day, \n",
    "        sep = \"/\") %>% \n",
    "  pivot_wider(names_from = origin,\n",
    "              values_from = dest) %>% \n",
    "  unite(carrier_flight, carrier, flight)\n",
    "\n",
    "write_csv(flights_messy, \"flights_messy.csv\")"
   ]
  },
  {
   "cell_type": "code",
   "execution_count": 4,
   "metadata": {},
   "outputs": [
    {
     "name": "stdout",
     "output_type": "stream",
     "text": [
      "# A tibble: 336,776 x 17\n",
      "   date  dep_time sched_dep_time dep_delay arr_time sched_arr_time arr_delay\n",
      "   <chr>    <int>          <int>     <dbl>    <int>          <int>     <dbl>\n",
      " 1 2013…      517            515         2      830            819        11\n",
      " 2 2013…      533            529         4      850            830        20\n",
      " 3 2013…      542            540         2      923            850        33\n",
      " 4 2013…      544            545        -1     1004           1022       -18\n",
      " 5 2013…      554            600        -6      812            837       -25\n",
      " 6 2013…      554            558        -4      740            728        12\n",
      " 7 2013…      555            600        -5      913            854        19\n",
      " 8 2013…      557            600        -3      709            723       -14\n",
      " 9 2013…      557            600        -3      838            846        -8\n",
      "10 2013…      558            600        -2      753            745         8\n",
      "# … with 336,766 more rows, and 10 more variables: carrier_flight <chr>,\n",
      "#   tailnum <chr>, air_time <dbl>, distance <dbl>, hour <dbl>, minute <dbl>,\n",
      "#   time_hour <dttm>, EWR <chr>, LGA <chr>, JFK <chr>\n"
     ]
    },
    {
     "data": {
      "text/html": [
       "<table>\n",
       "<thead><tr><th scope=col>date</th><th scope=col>dep_time</th><th scope=col>sched_dep_time</th><th scope=col>dep_delay</th><th scope=col>arr_time</th><th scope=col>sched_arr_time</th><th scope=col>arr_delay</th><th scope=col>carrier_flight</th><th scope=col>tailnum</th><th scope=col>air_time</th><th scope=col>distance</th><th scope=col>hour</th><th scope=col>minute</th><th scope=col>time_hour</th><th scope=col>EWR</th><th scope=col>LGA</th><th scope=col>JFK</th></tr></thead>\n",
       "<tbody>\n",
       "\t<tr><td>2013/1/1           </td><td>517                </td><td>515                </td><td> 2                 </td><td> 830               </td><td> 819               </td><td> 11                </td><td>UA_1545            </td><td>N14228             </td><td>227                </td><td>1400               </td><td>5                  </td><td>15                 </td><td>2013-01-01 05:00:00</td><td>IAH                </td><td>NA                 </td><td>NA                 </td></tr>\n",
       "\t<tr><td>2013/1/1           </td><td>533                </td><td>529                </td><td> 4                 </td><td> 850               </td><td> 830               </td><td> 20                </td><td>UA_1714            </td><td>N24211             </td><td>227                </td><td>1416               </td><td>5                  </td><td>29                 </td><td>2013-01-01 05:00:00</td><td>NA                 </td><td>IAH                </td><td>NA                 </td></tr>\n",
       "\t<tr><td>2013/1/1           </td><td>542                </td><td>540                </td><td> 2                 </td><td> 923               </td><td> 850               </td><td> 33                </td><td>AA_1141            </td><td>N619AA             </td><td>160                </td><td>1089               </td><td>5                  </td><td>40                 </td><td>2013-01-01 05:00:00</td><td>NA                 </td><td>NA                 </td><td>MIA                </td></tr>\n",
       "\t<tr><td>2013/1/1           </td><td>544                </td><td>545                </td><td>-1                 </td><td>1004               </td><td>1022               </td><td>-18                </td><td>B6_725             </td><td>N804JB             </td><td>183                </td><td>1576               </td><td>5                  </td><td>45                 </td><td>2013-01-01 05:00:00</td><td>NA                 </td><td>NA                 </td><td>BQN                </td></tr>\n",
       "\t<tr><td>2013/1/1           </td><td>554                </td><td>600                </td><td>-6                 </td><td> 812               </td><td> 837               </td><td>-25                </td><td>DL_461             </td><td>N668DN             </td><td>116                </td><td> 762               </td><td>6                  </td><td> 0                 </td><td>2013-01-01 06:00:00</td><td>NA                 </td><td>ATL                </td><td>NA                 </td></tr>\n",
       "</tbody>\n",
       "</table>\n"
      ],
      "text/latex": [
       "\\begin{tabular}{r|lllllllllllllllll}\n",
       " date & dep\\_time & sched\\_dep\\_time & dep\\_delay & arr\\_time & sched\\_arr\\_time & arr\\_delay & carrier\\_flight & tailnum & air\\_time & distance & hour & minute & time\\_hour & EWR & LGA & JFK\\\\\n",
       "\\hline\n",
       "\t 2013/1/1            & 517                 & 515                 &  2                  &  830                &  819                &  11                 & UA\\_1545           & N14228              & 227                 & 1400                & 5                   & 15                  & 2013-01-01 05:00:00 & IAH                 & NA                  & NA                 \\\\\n",
       "\t 2013/1/1            & 533                 & 529                 &  4                  &  850                &  830                &  20                 & UA\\_1714           & N24211              & 227                 & 1416                & 5                   & 29                  & 2013-01-01 05:00:00 & NA                  & IAH                 & NA                 \\\\\n",
       "\t 2013/1/1            & 542                 & 540                 &  2                  &  923                &  850                &  33                 & AA\\_1141           & N619AA              & 160                 & 1089                & 5                   & 40                  & 2013-01-01 05:00:00 & NA                  & NA                  & MIA                \\\\\n",
       "\t 2013/1/1            & 544                 & 545                 & -1                  & 1004                & 1022                & -18                 & B6\\_725            & N804JB              & 183                 & 1576                & 5                   & 45                  & 2013-01-01 05:00:00 & NA                  & NA                  & BQN                \\\\\n",
       "\t 2013/1/1            & 554                 & 600                 & -6                  &  812                &  837                & -25                 & DL\\_461            & N668DN              & 116                 &  762                & 6                   &  0                  & 2013-01-01 06:00:00 & NA                  & ATL                 & NA                 \\\\\n",
       "\\end{tabular}\n"
      ],
      "text/markdown": [
       "\n",
       "| date | dep_time | sched_dep_time | dep_delay | arr_time | sched_arr_time | arr_delay | carrier_flight | tailnum | air_time | distance | hour | minute | time_hour | EWR | LGA | JFK |\n",
       "|---|---|---|---|---|---|---|---|---|---|---|---|---|---|---|---|---|\n",
       "| 2013/1/1            | 517                 | 515                 |  2                  |  830                |  819                |  11                 | UA_1545             | N14228              | 227                 | 1400                | 5                   | 15                  | 2013-01-01 05:00:00 | IAH                 | NA                  | NA                  |\n",
       "| 2013/1/1            | 533                 | 529                 |  4                  |  850                |  830                |  20                 | UA_1714             | N24211              | 227                 | 1416                | 5                   | 29                  | 2013-01-01 05:00:00 | NA                  | IAH                 | NA                  |\n",
       "| 2013/1/1            | 542                 | 540                 |  2                  |  923                |  850                |  33                 | AA_1141             | N619AA              | 160                 | 1089                | 5                   | 40                  | 2013-01-01 05:00:00 | NA                  | NA                  | MIA                 |\n",
       "| 2013/1/1            | 544                 | 545                 | -1                  | 1004                | 1022                | -18                 | B6_725              | N804JB              | 183                 | 1576                | 5                   | 45                  | 2013-01-01 05:00:00 | NA                  | NA                  | BQN                 |\n",
       "| 2013/1/1            | 554                 | 600                 | -6                  |  812                |  837                | -25                 | DL_461              | N668DN              | 116                 |  762                | 6                   |  0                  | 2013-01-01 06:00:00 | NA                  | ATL                 | NA                  |\n",
       "\n"
      ],
      "text/plain": [
       "  date     dep_time sched_dep_time dep_delay arr_time sched_arr_time arr_delay\n",
       "1 2013/1/1 517      515             2         830      819            11      \n",
       "2 2013/1/1 533      529             4         850      830            20      \n",
       "3 2013/1/1 542      540             2         923      850            33      \n",
       "4 2013/1/1 544      545            -1        1004     1022           -18      \n",
       "5 2013/1/1 554      600            -6         812      837           -25      \n",
       "  carrier_flight tailnum air_time distance hour minute time_hour           EWR\n",
       "1 UA_1545        N14228  227      1400     5    15     2013-01-01 05:00:00 IAH\n",
       "2 UA_1714        N24211  227      1416     5    29     2013-01-01 05:00:00 NA \n",
       "3 AA_1141        N619AA  160      1089     5    40     2013-01-01 05:00:00 NA \n",
       "4 B6_725         N804JB  183      1576     5    45     2013-01-01 05:00:00 NA \n",
       "5 DL_461         N668DN  116       762     6     0     2013-01-01 06:00:00 NA \n",
       "  LGA JFK\n",
       "1 NA  NA \n",
       "2 IAH NA \n",
       "3 NA  MIA\n",
       "4 NA  BQN\n",
       "5 ATL NA "
      ]
     },
     "metadata": {},
     "output_type": "display_data"
    },
    {
     "data": {
      "text/html": [
       "<table>\n",
       "<thead><tr><th scope=col>date</th><th scope=col>dep_time</th><th scope=col>sched_dep_time</th><th scope=col>dep_delay</th><th scope=col>arr_time</th><th scope=col>sched_arr_time</th><th scope=col>arr_delay</th><th scope=col>carrier_flight</th><th scope=col>tailnum</th><th scope=col>air_time</th><th scope=col>distance</th><th scope=col>hour</th><th scope=col>minute</th><th scope=col>time_hour</th><th scope=col>EWR</th><th scope=col>LGA</th><th scope=col>JFK</th></tr></thead>\n",
       "<tbody>\n",
       "\t<tr><td>2013/9/30          </td><td>NA                 </td><td>1455               </td><td>NA                 </td><td>NA                 </td><td>1634               </td><td>NA                 </td><td>9E_3393            </td><td>NA                 </td><td>NA                 </td><td>213                </td><td>14                 </td><td>55                 </td><td>2013-09-30 14:00:00</td><td>NA                 </td><td>NA                 </td><td>DCA                </td></tr>\n",
       "\t<tr><td>2013/9/30          </td><td>NA                 </td><td>2200               </td><td>NA                 </td><td>NA                 </td><td>2312               </td><td>NA                 </td><td>9E_3525            </td><td>NA                 </td><td>NA                 </td><td>198                </td><td>22                 </td><td> 0                 </td><td>2013-09-30 22:00:00</td><td>NA                 </td><td>SYR                </td><td>NA                 </td></tr>\n",
       "\t<tr><td>2013/9/30          </td><td>NA                 </td><td>1210               </td><td>NA                 </td><td>NA                 </td><td>1330               </td><td>NA                 </td><td>MQ_3461            </td><td>N535MQ             </td><td>NA                 </td><td>764                </td><td>12                 </td><td>10                 </td><td>2013-09-30 12:00:00</td><td>NA                 </td><td>BNA                </td><td>NA                 </td></tr>\n",
       "\t<tr><td>2013/9/30          </td><td>NA                 </td><td>1159               </td><td>NA                 </td><td>NA                 </td><td>1344               </td><td>NA                 </td><td>MQ_3572            </td><td>N511MQ             </td><td>NA                 </td><td>419                </td><td>11                 </td><td>59                 </td><td>2013-09-30 11:00:00</td><td>NA                 </td><td>CLE                </td><td>NA                 </td></tr>\n",
       "\t<tr><td>2013/9/30          </td><td>NA                 </td><td> 840               </td><td>NA                 </td><td>NA                 </td><td>1020               </td><td>NA                 </td><td>MQ_3531            </td><td>N839MQ             </td><td>NA                 </td><td>431                </td><td> 8                 </td><td>40                 </td><td>2013-09-30 08:00:00</td><td>NA                 </td><td>RDU                </td><td>NA                 </td></tr>\n",
       "</tbody>\n",
       "</table>\n"
      ],
      "text/latex": [
       "\\begin{tabular}{r|lllllllllllllllll}\n",
       " date & dep\\_time & sched\\_dep\\_time & dep\\_delay & arr\\_time & sched\\_arr\\_time & arr\\_delay & carrier\\_flight & tailnum & air\\_time & distance & hour & minute & time\\_hour & EWR & LGA & JFK\\\\\n",
       "\\hline\n",
       "\t 2013/9/30           & NA                  & 1455                & NA                  & NA                  & 1634                & NA                  & 9E\\_3393           & NA                  & NA                  & 213                 & 14                  & 55                  & 2013-09-30 14:00:00 & NA                  & NA                  & DCA                \\\\\n",
       "\t 2013/9/30           & NA                  & 2200                & NA                  & NA                  & 2312                & NA                  & 9E\\_3525           & NA                  & NA                  & 198                 & 22                  &  0                  & 2013-09-30 22:00:00 & NA                  & SYR                 & NA                 \\\\\n",
       "\t 2013/9/30           & NA                  & 1210                & NA                  & NA                  & 1330                & NA                  & MQ\\_3461           & N535MQ              & NA                  & 764                 & 12                  & 10                  & 2013-09-30 12:00:00 & NA                  & BNA                 & NA                 \\\\\n",
       "\t 2013/9/30           & NA                  & 1159                & NA                  & NA                  & 1344                & NA                  & MQ\\_3572           & N511MQ              & NA                  & 419                 & 11                  & 59                  & 2013-09-30 11:00:00 & NA                  & CLE                 & NA                 \\\\\n",
       "\t 2013/9/30           & NA                  &  840                & NA                  & NA                  & 1020                & NA                  & MQ\\_3531           & N839MQ              & NA                  & 431                 &  8                  & 40                  & 2013-09-30 08:00:00 & NA                  & RDU                 & NA                 \\\\\n",
       "\\end{tabular}\n"
      ],
      "text/markdown": [
       "\n",
       "| date | dep_time | sched_dep_time | dep_delay | arr_time | sched_arr_time | arr_delay | carrier_flight | tailnum | air_time | distance | hour | minute | time_hour | EWR | LGA | JFK |\n",
       "|---|---|---|---|---|---|---|---|---|---|---|---|---|---|---|---|---|\n",
       "| 2013/9/30           | NA                  | 1455                | NA                  | NA                  | 1634                | NA                  | 9E_3393             | NA                  | NA                  | 213                 | 14                  | 55                  | 2013-09-30 14:00:00 | NA                  | NA                  | DCA                 |\n",
       "| 2013/9/30           | NA                  | 2200                | NA                  | NA                  | 2312                | NA                  | 9E_3525             | NA                  | NA                  | 198                 | 22                  |  0                  | 2013-09-30 22:00:00 | NA                  | SYR                 | NA                  |\n",
       "| 2013/9/30           | NA                  | 1210                | NA                  | NA                  | 1330                | NA                  | MQ_3461             | N535MQ              | NA                  | 764                 | 12                  | 10                  | 2013-09-30 12:00:00 | NA                  | BNA                 | NA                  |\n",
       "| 2013/9/30           | NA                  | 1159                | NA                  | NA                  | 1344                | NA                  | MQ_3572             | N511MQ              | NA                  | 419                 | 11                  | 59                  | 2013-09-30 11:00:00 | NA                  | CLE                 | NA                  |\n",
       "| 2013/9/30           | NA                  |  840                | NA                  | NA                  | 1020                | NA                  | MQ_3531             | N839MQ              | NA                  | 431                 |  8                  | 40                  | 2013-09-30 08:00:00 | NA                  | RDU                 | NA                  |\n",
       "\n"
      ],
      "text/plain": [
       "  date      dep_time sched_dep_time dep_delay arr_time sched_arr_time arr_delay\n",
       "1 2013/9/30 NA       1455           NA        NA       1634           NA       \n",
       "2 2013/9/30 NA       2200           NA        NA       2312           NA       \n",
       "3 2013/9/30 NA       1210           NA        NA       1330           NA       \n",
       "4 2013/9/30 NA       1159           NA        NA       1344           NA       \n",
       "5 2013/9/30 NA        840           NA        NA       1020           NA       \n",
       "  carrier_flight tailnum air_time distance hour minute time_hour           EWR\n",
       "1 9E_3393        NA      NA       213      14   55     2013-09-30 14:00:00 NA \n",
       "2 9E_3525        NA      NA       198      22    0     2013-09-30 22:00:00 NA \n",
       "3 MQ_3461        N535MQ  NA       764      12   10     2013-09-30 12:00:00 NA \n",
       "4 MQ_3572        N511MQ  NA       419      11   59     2013-09-30 11:00:00 NA \n",
       "5 MQ_3531        N839MQ  NA       431       8   40     2013-09-30 08:00:00 NA \n",
       "  LGA JFK\n",
       "1 NA  DCA\n",
       "2 SYR NA \n",
       "3 BNA NA \n",
       "4 CLE NA \n",
       "5 RDU NA "
      ]
     },
     "metadata": {},
     "output_type": "display_data"
    },
    {
     "data": {
      "text/html": [
       "<table>\n",
       "<thead><tr><th scope=col>date</th><th scope=col>dep_time</th><th scope=col>sched_dep_time</th><th scope=col>dep_delay</th><th scope=col>arr_time</th><th scope=col>sched_arr_time</th><th scope=col>arr_delay</th><th scope=col>carrier_flight</th><th scope=col>tailnum</th><th scope=col>air_time</th><th scope=col>distance</th><th scope=col>hour</th><th scope=col>minute</th><th scope=col>time_hour</th><th scope=col>EWR</th><th scope=col>LGA</th><th scope=col>JFK</th></tr></thead>\n",
       "<tbody>\n",
       "\t<tr><td>2013/10/7          </td><td> 755               </td><td> 800               </td><td> -5                </td><td> 949               </td><td>1005               </td><td>-16                </td><td>9E_3353            </td><td>N901XJ             </td><td> 82                </td><td> 509               </td><td> 8                 </td><td> 0                 </td><td>2013-10-07 08:00:00</td><td>NA                 </td><td>NA                 </td><td>DTW                </td></tr>\n",
       "\t<tr><td>2013/6/6           </td><td>1546               </td><td>1545               </td><td>  1                </td><td>1848               </td><td>1910               </td><td>-22                </td><td>AA_133             </td><td>N328AA             </td><td>331                </td><td>2475               </td><td>15                 </td><td>45                 </td><td>2013-06-06 15:00:00</td><td>NA                 </td><td>NA                 </td><td>LAX                </td></tr>\n",
       "\t<tr><td>2013/3/14          </td><td> 810               </td><td> 815               </td><td> -5                </td><td>1014               </td><td>1015               </td><td> -1                </td><td>US_675             </td><td>N651AW             </td><td> 91                </td><td> 529               </td><td> 8                 </td><td>15                 </td><td>2013-03-14 08:00:00</td><td>CLT                </td><td>NA                 </td><td>NA                 </td></tr>\n",
       "\t<tr><td>2013/11/10         </td><td>2149               </td><td>2159               </td><td>-10                </td><td>2245               </td><td>2301               </td><td>-16                </td><td>EV_4194            </td><td>N13903             </td><td> 38                </td><td> 143               </td><td>21                 </td><td>59                 </td><td>2013-11-10 21:00:00</td><td>ALB                </td><td>NA                 </td><td>NA                 </td></tr>\n",
       "\t<tr><td>2013/5/15          </td><td>1206               </td><td>1210               </td><td> -4                </td><td>1505               </td><td>1510               </td><td> -5                </td><td>B6_143             </td><td>N629JB             </td><td>152                </td><td>1074               </td><td>12                 </td><td>10                 </td><td>2013-05-15 12:00:00</td><td>NA                 </td><td>NA                 </td><td>RSW                </td></tr>\n",
       "</tbody>\n",
       "</table>\n"
      ],
      "text/latex": [
       "\\begin{tabular}{r|lllllllllllllllll}\n",
       " date & dep\\_time & sched\\_dep\\_time & dep\\_delay & arr\\_time & sched\\_arr\\_time & arr\\_delay & carrier\\_flight & tailnum & air\\_time & distance & hour & minute & time\\_hour & EWR & LGA & JFK\\\\\n",
       "\\hline\n",
       "\t 2013/10/7           &  755                &  800                &  -5                 &  949                & 1005                & -16                 & 9E\\_3353           & N901XJ              &  82                 &  509                &  8                  &  0                  & 2013-10-07 08:00:00 & NA                  & NA                  & DTW                \\\\\n",
       "\t 2013/6/6            & 1546                & 1545                &   1                 & 1848                & 1910                & -22                 & AA\\_133            & N328AA              & 331                 & 2475                & 15                  & 45                  & 2013-06-06 15:00:00 & NA                  & NA                  & LAX                \\\\\n",
       "\t 2013/3/14           &  810                &  815                &  -5                 & 1014                & 1015                &  -1                 & US\\_675            & N651AW              &  91                 &  529                &  8                  & 15                  & 2013-03-14 08:00:00 & CLT                 & NA                  & NA                 \\\\\n",
       "\t 2013/11/10          & 2149                & 2159                & -10                 & 2245                & 2301                & -16                 & EV\\_4194           & N13903              &  38                 &  143                & 21                  & 59                  & 2013-11-10 21:00:00 & ALB                 & NA                  & NA                 \\\\\n",
       "\t 2013/5/15           & 1206                & 1210                &  -4                 & 1505                & 1510                &  -5                 & B6\\_143            & N629JB              & 152                 & 1074                & 12                  & 10                  & 2013-05-15 12:00:00 & NA                  & NA                  & RSW                \\\\\n",
       "\\end{tabular}\n"
      ],
      "text/markdown": [
       "\n",
       "| date | dep_time | sched_dep_time | dep_delay | arr_time | sched_arr_time | arr_delay | carrier_flight | tailnum | air_time | distance | hour | minute | time_hour | EWR | LGA | JFK |\n",
       "|---|---|---|---|---|---|---|---|---|---|---|---|---|---|---|---|---|\n",
       "| 2013/10/7           |  755                |  800                |  -5                 |  949                | 1005                | -16                 | 9E_3353             | N901XJ              |  82                 |  509                |  8                  |  0                  | 2013-10-07 08:00:00 | NA                  | NA                  | DTW                 |\n",
       "| 2013/6/6            | 1546                | 1545                |   1                 | 1848                | 1910                | -22                 | AA_133              | N328AA              | 331                 | 2475                | 15                  | 45                  | 2013-06-06 15:00:00 | NA                  | NA                  | LAX                 |\n",
       "| 2013/3/14           |  810                |  815                |  -5                 | 1014                | 1015                |  -1                 | US_675              | N651AW              |  91                 |  529                |  8                  | 15                  | 2013-03-14 08:00:00 | CLT                 | NA                  | NA                  |\n",
       "| 2013/11/10          | 2149                | 2159                | -10                 | 2245                | 2301                | -16                 | EV_4194             | N13903              |  38                 |  143                | 21                  | 59                  | 2013-11-10 21:00:00 | ALB                 | NA                  | NA                  |\n",
       "| 2013/5/15           | 1206                | 1210                |  -4                 | 1505                | 1510                |  -5                 | B6_143              | N629JB              | 152                 | 1074                | 12                  | 10                  | 2013-05-15 12:00:00 | NA                  | NA                  | RSW                 |\n",
       "\n"
      ],
      "text/plain": [
       "  date       dep_time sched_dep_time dep_delay arr_time sched_arr_time\n",
       "1 2013/10/7   755      800            -5        949     1005          \n",
       "2 2013/6/6   1546     1545             1       1848     1910          \n",
       "3 2013/3/14   810      815            -5       1014     1015          \n",
       "4 2013/11/10 2149     2159           -10       2245     2301          \n",
       "5 2013/5/15  1206     1210            -4       1505     1510          \n",
       "  arr_delay carrier_flight tailnum air_time distance hour minute\n",
       "1 -16       9E_3353        N901XJ   82       509      8    0    \n",
       "2 -22       AA_133         N328AA  331      2475     15   45    \n",
       "3  -1       US_675         N651AW   91       529      8   15    \n",
       "4 -16       EV_4194        N13903   38       143     21   59    \n",
       "5  -5       B6_143         N629JB  152      1074     12   10    \n",
       "  time_hour           EWR LGA JFK\n",
       "1 2013-10-07 08:00:00 NA  NA  DTW\n",
       "2 2013-06-06 15:00:00 NA  NA  LAX\n",
       "3 2013-03-14 08:00:00 CLT NA  NA \n",
       "4 2013-11-10 21:00:00 ALB NA  NA \n",
       "5 2013-05-15 12:00:00 NA  NA  RSW"
      ]
     },
     "metadata": {},
     "output_type": "display_data"
    }
   ],
   "source": [
    "print(flights_messy)\n",
    "head(flights_messy, 5)\n",
    "tail(flights_messy, 5)\n",
    "sample_n(flights_messy, 5)"
   ]
  },
  {
   "cell_type": "markdown",
   "metadata": {},
   "source": [
    "# Q2"
   ]
  },
  {
   "cell_type": "code",
   "execution_count": 7,
   "metadata": {
    "scrolled": true
   },
   "outputs": [
    {
     "name": "stderr",
     "output_type": "stream",
     "text": [
      "Parsed with column specification:\n",
      "cols(\n",
      "  date = col_character(),\n",
      "  dep_time = col_double(),\n",
      "  sched_dep_time = col_double(),\n",
      "  dep_delay = col_double(),\n",
      "  arr_time = col_double(),\n",
      "  sched_arr_time = col_double(),\n",
      "  arr_delay = col_double(),\n",
      "  carrier_flight = col_character(),\n",
      "  tailnum = col_character(),\n",
      "  air_time = col_double(),\n",
      "  distance = col_double(),\n",
      "  hour = col_double(),\n",
      "  minute = col_double(),\n",
      "  time_hour = col_datetime(format = \"\"),\n",
      "  EWR = col_character(),\n",
      "  LGA = col_character(),\n",
      "  JFK = col_character()\n",
      ")\n"
     ]
    }
   ],
   "source": [
    "flights_tidy <- read_csv(\"flights_messy.csv\") %>% \n",
    "  separate(date, \n",
    "           into = c(\"year\", \"month\", \"day\")) %>% \n",
    "  pivot_longer(c(\"EWR\", \"LGA\", \"JFK\"),\n",
    "               names_to = \"origin\", \n",
    "               values_to = \"dest\",\n",
    "               values_drop_na = TRUE) %>%  \n",
    "  separate(carrier_flight,\n",
    "           into = c(\"carrier\", \"flight\")) %>% \n",
    "  mutate(day = as.integer(day), \n",
    "         month = as.integer(month), \n",
    "         year = as.integer(year),\n",
    "         dep_time = as.integer(dep_time),\n",
    "         sched_dep_time = as.integer(sched_dep_time),\n",
    "         arr_time = as.integer(arr_time),\n",
    "         sched_arr_time = as.integer(sched_arr_time),\n",
    "         flight = as.integer(flight))"
   ]
  },
  {
   "cell_type": "code",
   "execution_count": 8,
   "metadata": {},
   "outputs": [
    {
     "name": "stdout",
     "output_type": "stream",
     "text": [
      "# A tibble: 336,776 x 19\n",
      "    year month   day dep_time sched_dep_time dep_delay arr_time sched_arr_time\n",
      "   <int> <int> <int>    <int>          <int>     <dbl>    <int>          <int>\n",
      " 1  2013     1     1      517            515         2      830            819\n",
      " 2  2013     1     1      533            529         4      850            830\n",
      " 3  2013     1     1      542            540         2      923            850\n",
      " 4  2013     1     1      544            545        -1     1004           1022\n",
      " 5  2013     1     1      554            600        -6      812            837\n",
      " 6  2013     1     1      554            558        -4      740            728\n",
      " 7  2013     1     1      555            600        -5      913            854\n",
      " 8  2013     1     1      557            600        -3      709            723\n",
      " 9  2013     1     1      557            600        -3      838            846\n",
      "10  2013     1     1      558            600        -2      753            745\n",
      "# … with 336,766 more rows, and 11 more variables: arr_delay <dbl>,\n",
      "#   carrier <chr>, flight <int>, tailnum <chr>, air_time <dbl>, distance <dbl>,\n",
      "#   hour <dbl>, minute <dbl>, time_hour <dttm>, origin <chr>, dest <chr>\n"
     ]
    },
    {
     "data": {
      "text/html": [
       "<table>\n",
       "<thead><tr><th scope=col>year</th><th scope=col>month</th><th scope=col>day</th><th scope=col>dep_time</th><th scope=col>sched_dep_time</th><th scope=col>dep_delay</th><th scope=col>arr_time</th><th scope=col>sched_arr_time</th><th scope=col>arr_delay</th><th scope=col>carrier</th><th scope=col>flight</th><th scope=col>tailnum</th><th scope=col>air_time</th><th scope=col>distance</th><th scope=col>hour</th><th scope=col>minute</th><th scope=col>time_hour</th><th scope=col>origin</th><th scope=col>dest</th></tr></thead>\n",
       "<tbody>\n",
       "\t<tr><td>2013               </td><td>1                  </td><td>1                  </td><td>517                </td><td>515                </td><td> 2                 </td><td> 830               </td><td> 819               </td><td> 11                </td><td>UA                 </td><td>1545               </td><td>N14228             </td><td>227                </td><td>1400               </td><td>5                  </td><td>15                 </td><td>2013-01-01 10:00:00</td><td>EWR                </td><td>IAH                </td></tr>\n",
       "\t<tr><td>2013               </td><td>1                  </td><td>1                  </td><td>533                </td><td>529                </td><td> 4                 </td><td> 850               </td><td> 830               </td><td> 20                </td><td>UA                 </td><td>1714               </td><td>N24211             </td><td>227                </td><td>1416               </td><td>5                  </td><td>29                 </td><td>2013-01-01 10:00:00</td><td>LGA                </td><td>IAH                </td></tr>\n",
       "\t<tr><td>2013               </td><td>1                  </td><td>1                  </td><td>542                </td><td>540                </td><td> 2                 </td><td> 923               </td><td> 850               </td><td> 33                </td><td>AA                 </td><td>1141               </td><td>N619AA             </td><td>160                </td><td>1089               </td><td>5                  </td><td>40                 </td><td>2013-01-01 10:00:00</td><td>JFK                </td><td>MIA                </td></tr>\n",
       "\t<tr><td>2013               </td><td>1                  </td><td>1                  </td><td>544                </td><td>545                </td><td>-1                 </td><td>1004               </td><td>1022               </td><td>-18                </td><td>B6                 </td><td> 725               </td><td>N804JB             </td><td>183                </td><td>1576               </td><td>5                  </td><td>45                 </td><td>2013-01-01 10:00:00</td><td>JFK                </td><td>BQN                </td></tr>\n",
       "\t<tr><td>2013               </td><td>1                  </td><td>1                  </td><td>554                </td><td>600                </td><td>-6                 </td><td> 812               </td><td> 837               </td><td>-25                </td><td>DL                 </td><td> 461               </td><td>N668DN             </td><td>116                </td><td> 762               </td><td>6                  </td><td> 0                 </td><td>2013-01-01 11:00:00</td><td>LGA                </td><td>ATL                </td></tr>\n",
       "</tbody>\n",
       "</table>\n"
      ],
      "text/latex": [
       "\\begin{tabular}{r|lllllllllllllllllll}\n",
       " year & month & day & dep\\_time & sched\\_dep\\_time & dep\\_delay & arr\\_time & sched\\_arr\\_time & arr\\_delay & carrier & flight & tailnum & air\\_time & distance & hour & minute & time\\_hour & origin & dest\\\\\n",
       "\\hline\n",
       "\t 2013                & 1                   & 1                   & 517                 & 515                 &  2                  &  830                &  819                &  11                 & UA                  & 1545                & N14228              & 227                 & 1400                & 5                   & 15                  & 2013-01-01 10:00:00 & EWR                 & IAH                \\\\\n",
       "\t 2013                & 1                   & 1                   & 533                 & 529                 &  4                  &  850                &  830                &  20                 & UA                  & 1714                & N24211              & 227                 & 1416                & 5                   & 29                  & 2013-01-01 10:00:00 & LGA                 & IAH                \\\\\n",
       "\t 2013                & 1                   & 1                   & 542                 & 540                 &  2                  &  923                &  850                &  33                 & AA                  & 1141                & N619AA              & 160                 & 1089                & 5                   & 40                  & 2013-01-01 10:00:00 & JFK                 & MIA                \\\\\n",
       "\t 2013                & 1                   & 1                   & 544                 & 545                 & -1                  & 1004                & 1022                & -18                 & B6                  &  725                & N804JB              & 183                 & 1576                & 5                   & 45                  & 2013-01-01 10:00:00 & JFK                 & BQN                \\\\\n",
       "\t 2013                & 1                   & 1                   & 554                 & 600                 & -6                  &  812                &  837                & -25                 & DL                  &  461                & N668DN              & 116                 &  762                & 6                   &  0                  & 2013-01-01 11:00:00 & LGA                 & ATL                \\\\\n",
       "\\end{tabular}\n"
      ],
      "text/markdown": [
       "\n",
       "| year | month | day | dep_time | sched_dep_time | dep_delay | arr_time | sched_arr_time | arr_delay | carrier | flight | tailnum | air_time | distance | hour | minute | time_hour | origin | dest |\n",
       "|---|---|---|---|---|---|---|---|---|---|---|---|---|---|---|---|---|---|---|\n",
       "| 2013                | 1                   | 1                   | 517                 | 515                 |  2                  |  830                |  819                |  11                 | UA                  | 1545                | N14228              | 227                 | 1400                | 5                   | 15                  | 2013-01-01 10:00:00 | EWR                 | IAH                 |\n",
       "| 2013                | 1                   | 1                   | 533                 | 529                 |  4                  |  850                |  830                |  20                 | UA                  | 1714                | N24211              | 227                 | 1416                | 5                   | 29                  | 2013-01-01 10:00:00 | LGA                 | IAH                 |\n",
       "| 2013                | 1                   | 1                   | 542                 | 540                 |  2                  |  923                |  850                |  33                 | AA                  | 1141                | N619AA              | 160                 | 1089                | 5                   | 40                  | 2013-01-01 10:00:00 | JFK                 | MIA                 |\n",
       "| 2013                | 1                   | 1                   | 544                 | 545                 | -1                  | 1004                | 1022                | -18                 | B6                  |  725                | N804JB              | 183                 | 1576                | 5                   | 45                  | 2013-01-01 10:00:00 | JFK                 | BQN                 |\n",
       "| 2013                | 1                   | 1                   | 554                 | 600                 | -6                  |  812                |  837                | -25                 | DL                  |  461                | N668DN              | 116                 |  762                | 6                   |  0                  | 2013-01-01 11:00:00 | LGA                 | ATL                 |\n",
       "\n"
      ],
      "text/plain": [
       "  year month day dep_time sched_dep_time dep_delay arr_time sched_arr_time\n",
       "1 2013 1     1   517      515             2         830      819          \n",
       "2 2013 1     1   533      529             4         850      830          \n",
       "3 2013 1     1   542      540             2         923      850          \n",
       "4 2013 1     1   544      545            -1        1004     1022          \n",
       "5 2013 1     1   554      600            -6         812      837          \n",
       "  arr_delay carrier flight tailnum air_time distance hour minute\n",
       "1  11       UA      1545   N14228  227      1400     5    15    \n",
       "2  20       UA      1714   N24211  227      1416     5    29    \n",
       "3  33       AA      1141   N619AA  160      1089     5    40    \n",
       "4 -18       B6       725   N804JB  183      1576     5    45    \n",
       "5 -25       DL       461   N668DN  116       762     6     0    \n",
       "  time_hour           origin dest\n",
       "1 2013-01-01 10:00:00 EWR    IAH \n",
       "2 2013-01-01 10:00:00 LGA    IAH \n",
       "3 2013-01-01 10:00:00 JFK    MIA \n",
       "4 2013-01-01 10:00:00 JFK    BQN \n",
       "5 2013-01-01 11:00:00 LGA    ATL "
      ]
     },
     "metadata": {},
     "output_type": "display_data"
    },
    {
     "data": {
      "text/html": [
       "<table>\n",
       "<thead><tr><th scope=col>year</th><th scope=col>month</th><th scope=col>day</th><th scope=col>dep_time</th><th scope=col>sched_dep_time</th><th scope=col>dep_delay</th><th scope=col>arr_time</th><th scope=col>sched_arr_time</th><th scope=col>arr_delay</th><th scope=col>carrier</th><th scope=col>flight</th><th scope=col>tailnum</th><th scope=col>air_time</th><th scope=col>distance</th><th scope=col>hour</th><th scope=col>minute</th><th scope=col>time_hour</th><th scope=col>origin</th><th scope=col>dest</th></tr></thead>\n",
       "<tbody>\n",
       "\t<tr><td>2013               </td><td>9                  </td><td>30                 </td><td>NA                 </td><td>1455               </td><td>NA                 </td><td>NA                 </td><td>1634               </td><td>NA                 </td><td>9E                 </td><td>3393               </td><td>NA                 </td><td>NA                 </td><td>213                </td><td>14                 </td><td>55                 </td><td>2013-09-30 18:00:00</td><td>JFK                </td><td>DCA                </td></tr>\n",
       "\t<tr><td>2013               </td><td>9                  </td><td>30                 </td><td>NA                 </td><td>2200               </td><td>NA                 </td><td>NA                 </td><td>2312               </td><td>NA                 </td><td>9E                 </td><td>3525               </td><td>NA                 </td><td>NA                 </td><td>198                </td><td>22                 </td><td> 0                 </td><td>2013-10-01 02:00:00</td><td>LGA                </td><td>SYR                </td></tr>\n",
       "\t<tr><td>2013               </td><td>9                  </td><td>30                 </td><td>NA                 </td><td>1210               </td><td>NA                 </td><td>NA                 </td><td>1330               </td><td>NA                 </td><td>MQ                 </td><td>3461               </td><td>N535MQ             </td><td>NA                 </td><td>764                </td><td>12                 </td><td>10                 </td><td>2013-09-30 16:00:00</td><td>LGA                </td><td>BNA                </td></tr>\n",
       "\t<tr><td>2013               </td><td>9                  </td><td>30                 </td><td>NA                 </td><td>1159               </td><td>NA                 </td><td>NA                 </td><td>1344               </td><td>NA                 </td><td>MQ                 </td><td>3572               </td><td>N511MQ             </td><td>NA                 </td><td>419                </td><td>11                 </td><td>59                 </td><td>2013-09-30 15:00:00</td><td>LGA                </td><td>CLE                </td></tr>\n",
       "\t<tr><td>2013               </td><td>9                  </td><td>30                 </td><td>NA                 </td><td> 840               </td><td>NA                 </td><td>NA                 </td><td>1020               </td><td>NA                 </td><td>MQ                 </td><td>3531               </td><td>N839MQ             </td><td>NA                 </td><td>431                </td><td> 8                 </td><td>40                 </td><td>2013-09-30 12:00:00</td><td>LGA                </td><td>RDU                </td></tr>\n",
       "</tbody>\n",
       "</table>\n"
      ],
      "text/latex": [
       "\\begin{tabular}{r|lllllllllllllllllll}\n",
       " year & month & day & dep\\_time & sched\\_dep\\_time & dep\\_delay & arr\\_time & sched\\_arr\\_time & arr\\_delay & carrier & flight & tailnum & air\\_time & distance & hour & minute & time\\_hour & origin & dest\\\\\n",
       "\\hline\n",
       "\t 2013                & 9                   & 30                  & NA                  & 1455                & NA                  & NA                  & 1634                & NA                  & 9E                  & 3393                & NA                  & NA                  & 213                 & 14                  & 55                  & 2013-09-30 18:00:00 & JFK                 & DCA                \\\\\n",
       "\t 2013                & 9                   & 30                  & NA                  & 2200                & NA                  & NA                  & 2312                & NA                  & 9E                  & 3525                & NA                  & NA                  & 198                 & 22                  &  0                  & 2013-10-01 02:00:00 & LGA                 & SYR                \\\\\n",
       "\t 2013                & 9                   & 30                  & NA                  & 1210                & NA                  & NA                  & 1330                & NA                  & MQ                  & 3461                & N535MQ              & NA                  & 764                 & 12                  & 10                  & 2013-09-30 16:00:00 & LGA                 & BNA                \\\\\n",
       "\t 2013                & 9                   & 30                  & NA                  & 1159                & NA                  & NA                  & 1344                & NA                  & MQ                  & 3572                & N511MQ              & NA                  & 419                 & 11                  & 59                  & 2013-09-30 15:00:00 & LGA                 & CLE                \\\\\n",
       "\t 2013                & 9                   & 30                  & NA                  &  840                & NA                  & NA                  & 1020                & NA                  & MQ                  & 3531                & N839MQ              & NA                  & 431                 &  8                  & 40                  & 2013-09-30 12:00:00 & LGA                 & RDU                \\\\\n",
       "\\end{tabular}\n"
      ],
      "text/markdown": [
       "\n",
       "| year | month | day | dep_time | sched_dep_time | dep_delay | arr_time | sched_arr_time | arr_delay | carrier | flight | tailnum | air_time | distance | hour | minute | time_hour | origin | dest |\n",
       "|---|---|---|---|---|---|---|---|---|---|---|---|---|---|---|---|---|---|---|\n",
       "| 2013                | 9                   | 30                  | NA                  | 1455                | NA                  | NA                  | 1634                | NA                  | 9E                  | 3393                | NA                  | NA                  | 213                 | 14                  | 55                  | 2013-09-30 18:00:00 | JFK                 | DCA                 |\n",
       "| 2013                | 9                   | 30                  | NA                  | 2200                | NA                  | NA                  | 2312                | NA                  | 9E                  | 3525                | NA                  | NA                  | 198                 | 22                  |  0                  | 2013-10-01 02:00:00 | LGA                 | SYR                 |\n",
       "| 2013                | 9                   | 30                  | NA                  | 1210                | NA                  | NA                  | 1330                | NA                  | MQ                  | 3461                | N535MQ              | NA                  | 764                 | 12                  | 10                  | 2013-09-30 16:00:00 | LGA                 | BNA                 |\n",
       "| 2013                | 9                   | 30                  | NA                  | 1159                | NA                  | NA                  | 1344                | NA                  | MQ                  | 3572                | N511MQ              | NA                  | 419                 | 11                  | 59                  | 2013-09-30 15:00:00 | LGA                 | CLE                 |\n",
       "| 2013                | 9                   | 30                  | NA                  |  840                | NA                  | NA                  | 1020                | NA                  | MQ                  | 3531                | N839MQ              | NA                  | 431                 |  8                  | 40                  | 2013-09-30 12:00:00 | LGA                 | RDU                 |\n",
       "\n"
      ],
      "text/plain": [
       "  year month day dep_time sched_dep_time dep_delay arr_time sched_arr_time\n",
       "1 2013 9     30  NA       1455           NA        NA       1634          \n",
       "2 2013 9     30  NA       2200           NA        NA       2312          \n",
       "3 2013 9     30  NA       1210           NA        NA       1330          \n",
       "4 2013 9     30  NA       1159           NA        NA       1344          \n",
       "5 2013 9     30  NA        840           NA        NA       1020          \n",
       "  arr_delay carrier flight tailnum air_time distance hour minute\n",
       "1 NA        9E      3393   NA      NA       213      14   55    \n",
       "2 NA        9E      3525   NA      NA       198      22    0    \n",
       "3 NA        MQ      3461   N535MQ  NA       764      12   10    \n",
       "4 NA        MQ      3572   N511MQ  NA       419      11   59    \n",
       "5 NA        MQ      3531   N839MQ  NA       431       8   40    \n",
       "  time_hour           origin dest\n",
       "1 2013-09-30 18:00:00 JFK    DCA \n",
       "2 2013-10-01 02:00:00 LGA    SYR \n",
       "3 2013-09-30 16:00:00 LGA    BNA \n",
       "4 2013-09-30 15:00:00 LGA    CLE \n",
       "5 2013-09-30 12:00:00 LGA    RDU "
      ]
     },
     "metadata": {},
     "output_type": "display_data"
    },
    {
     "data": {
      "text/html": [
       "<table>\n",
       "<thead><tr><th scope=col>year</th><th scope=col>month</th><th scope=col>day</th><th scope=col>dep_time</th><th scope=col>sched_dep_time</th><th scope=col>dep_delay</th><th scope=col>arr_time</th><th scope=col>sched_arr_time</th><th scope=col>arr_delay</th><th scope=col>carrier</th><th scope=col>flight</th><th scope=col>tailnum</th><th scope=col>air_time</th><th scope=col>distance</th><th scope=col>hour</th><th scope=col>minute</th><th scope=col>time_hour</th><th scope=col>origin</th><th scope=col>dest</th></tr></thead>\n",
       "<tbody>\n",
       "\t<tr><td>2013               </td><td>2                  </td><td> 7                 </td><td>1027               </td><td>1030               </td><td>-3                 </td><td>1208               </td><td>1215               </td><td> -7                </td><td>MQ                 </td><td>4471               </td><td>N713MQ             </td><td> 75                </td><td> 431               </td><td>10                 </td><td>30                 </td><td>2013-02-07 15:00:00</td><td>LGA                </td><td>RDU                </td></tr>\n",
       "\t<tr><td>2013               </td><td>3                  </td><td>26                 </td><td>1349               </td><td>1350               </td><td>-1                 </td><td>1552               </td><td>1615               </td><td>-23                </td><td>US                 </td><td> 186               </td><td>N659AW             </td><td>283                </td><td>2133               </td><td>13                 </td><td>50                 </td><td>2013-03-26 17:00:00</td><td>EWR                </td><td>PHX                </td></tr>\n",
       "\t<tr><td>2013               </td><td>3                  </td><td>28                 </td><td>1155               </td><td>1200               </td><td>-5                 </td><td>1449               </td><td>1510               </td><td>-21                </td><td>AA                 </td><td>   3               </td><td>N338AA             </td><td>332                </td><td>2475               </td><td>12                 </td><td> 0                 </td><td>2013-03-28 16:00:00</td><td>JFK                </td><td>LAX                </td></tr>\n",
       "\t<tr><td>2013               </td><td>3                  </td><td> 8                 </td><td>  NA               </td><td>1930               </td><td>NA                 </td><td>  NA               </td><td>2115               </td><td> NA                </td><td>EV                 </td><td>4126               </td><td>N29906             </td><td> NA                </td><td> 419               </td><td>19                 </td><td>30                 </td><td>2013-03-09 00:00:00</td><td>LGA                </td><td>CLE                </td></tr>\n",
       "\t<tr><td>2013               </td><td>6                  </td><td>11                 </td><td>1944               </td><td>1859               </td><td>45                 </td><td>2057               </td><td>2036               </td><td> 21                </td><td>UA                 </td><td> 693               </td><td>N466UA             </td><td>110                </td><td> 733               </td><td>18                 </td><td>59                 </td><td>2013-06-11 22:00:00</td><td>LGA                </td><td>ORD                </td></tr>\n",
       "</tbody>\n",
       "</table>\n"
      ],
      "text/latex": [
       "\\begin{tabular}{r|lllllllllllllllllll}\n",
       " year & month & day & dep\\_time & sched\\_dep\\_time & dep\\_delay & arr\\_time & sched\\_arr\\_time & arr\\_delay & carrier & flight & tailnum & air\\_time & distance & hour & minute & time\\_hour & origin & dest\\\\\n",
       "\\hline\n",
       "\t 2013                & 2                   &  7                  & 1027                & 1030                & -3                  & 1208                & 1215                &  -7                 & MQ                  & 4471                & N713MQ              &  75                 &  431                & 10                  & 30                  & 2013-02-07 15:00:00 & LGA                 & RDU                \\\\\n",
       "\t 2013                & 3                   & 26                  & 1349                & 1350                & -1                  & 1552                & 1615                & -23                 & US                  &  186                & N659AW              & 283                 & 2133                & 13                  & 50                  & 2013-03-26 17:00:00 & EWR                 & PHX                \\\\\n",
       "\t 2013                & 3                   & 28                  & 1155                & 1200                & -5                  & 1449                & 1510                & -21                 & AA                  &    3                & N338AA              & 332                 & 2475                & 12                  &  0                  & 2013-03-28 16:00:00 & JFK                 & LAX                \\\\\n",
       "\t 2013                & 3                   &  8                  &   NA                & 1930                & NA                  &   NA                & 2115                &  NA                 & EV                  & 4126                & N29906              &  NA                 &  419                & 19                  & 30                  & 2013-03-09 00:00:00 & LGA                 & CLE                \\\\\n",
       "\t 2013                & 6                   & 11                  & 1944                & 1859                & 45                  & 2057                & 2036                &  21                 & UA                  &  693                & N466UA              & 110                 &  733                & 18                  & 59                  & 2013-06-11 22:00:00 & LGA                 & ORD                \\\\\n",
       "\\end{tabular}\n"
      ],
      "text/markdown": [
       "\n",
       "| year | month | day | dep_time | sched_dep_time | dep_delay | arr_time | sched_arr_time | arr_delay | carrier | flight | tailnum | air_time | distance | hour | minute | time_hour | origin | dest |\n",
       "|---|---|---|---|---|---|---|---|---|---|---|---|---|---|---|---|---|---|---|\n",
       "| 2013                | 2                   |  7                  | 1027                | 1030                | -3                  | 1208                | 1215                |  -7                 | MQ                  | 4471                | N713MQ              |  75                 |  431                | 10                  | 30                  | 2013-02-07 15:00:00 | LGA                 | RDU                 |\n",
       "| 2013                | 3                   | 26                  | 1349                | 1350                | -1                  | 1552                | 1615                | -23                 | US                  |  186                | N659AW              | 283                 | 2133                | 13                  | 50                  | 2013-03-26 17:00:00 | EWR                 | PHX                 |\n",
       "| 2013                | 3                   | 28                  | 1155                | 1200                | -5                  | 1449                | 1510                | -21                 | AA                  |    3                | N338AA              | 332                 | 2475                | 12                  |  0                  | 2013-03-28 16:00:00 | JFK                 | LAX                 |\n",
       "| 2013                | 3                   |  8                  |   NA                | 1930                | NA                  |   NA                | 2115                |  NA                 | EV                  | 4126                | N29906              |  NA                 |  419                | 19                  | 30                  | 2013-03-09 00:00:00 | LGA                 | CLE                 |\n",
       "| 2013                | 6                   | 11                  | 1944                | 1859                | 45                  | 2057                | 2036                |  21                 | UA                  |  693                | N466UA              | 110                 |  733                | 18                  | 59                  | 2013-06-11 22:00:00 | LGA                 | ORD                 |\n",
       "\n"
      ],
      "text/plain": [
       "  year month day dep_time sched_dep_time dep_delay arr_time sched_arr_time\n",
       "1 2013 2      7  1027     1030           -3        1208     1215          \n",
       "2 2013 3     26  1349     1350           -1        1552     1615          \n",
       "3 2013 3     28  1155     1200           -5        1449     1510          \n",
       "4 2013 3      8    NA     1930           NA          NA     2115          \n",
       "5 2013 6     11  1944     1859           45        2057     2036          \n",
       "  arr_delay carrier flight tailnum air_time distance hour minute\n",
       "1  -7       MQ      4471   N713MQ   75       431     10   30    \n",
       "2 -23       US       186   N659AW  283      2133     13   50    \n",
       "3 -21       AA         3   N338AA  332      2475     12    0    \n",
       "4  NA       EV      4126   N29906   NA       419     19   30    \n",
       "5  21       UA       693   N466UA  110       733     18   59    \n",
       "  time_hour           origin dest\n",
       "1 2013-02-07 15:00:00 LGA    RDU \n",
       "2 2013-03-26 17:00:00 EWR    PHX \n",
       "3 2013-03-28 16:00:00 JFK    LAX \n",
       "4 2013-03-09 00:00:00 LGA    CLE \n",
       "5 2013-06-11 22:00:00 LGA    ORD "
      ]
     },
     "metadata": {},
     "output_type": "display_data"
    }
   ],
   "source": [
    "print(flights_tidy)\n",
    "head(flights_tidy, 5)\n",
    "tail(flights_tidy, 5)\n",
    "sample_n(flights_tidy, 5)"
   ]
  },
  {
   "cell_type": "code",
   "execution_count": null,
   "metadata": {},
   "outputs": [],
   "source": []
  }
 ],
 "metadata": {
  "kernelspec": {
   "display_name": "R",
   "language": "R",
   "name": "ir"
  },
  "language_info": {
   "codemirror_mode": "r",
   "file_extension": ".r",
   "mimetype": "text/x-r-source",
   "name": "R",
   "pygments_lexer": "r",
   "version": "3.6.1"
  }
 },
 "nbformat": 4,
 "nbformat_minor": 2
}
